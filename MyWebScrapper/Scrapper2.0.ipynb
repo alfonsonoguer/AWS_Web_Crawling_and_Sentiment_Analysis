{
 "cells": [
  {
   "cell_type": "code",
   "execution_count": 1,
   "metadata": {},
   "outputs": [],
   "source": [
    "# Dependancies \n",
    "import pandas as pd \n",
    "from urllib.request import Request , urlopen  \n",
    "from bs4 import BeautifulSoup as soup \n",
    "\n"
   ]
  },
  {
   "cell_type": "code",
   "execution_count": 2,
   "metadata": {},
   "outputs": [],
   "source": [
    "def get_set(url):\n",
    "    \n",
    "    req =  Request(url,headers={'User-Agent': 'Mozilla/5.0'})\n",
    "    uClient =  urlopen(req)\n",
    "    page_html =  uClient.read()\n",
    "    uClient.close()\n",
    "    page_soup = soup(page_html,'html.parser')\n",
    "    \n",
    "    \n",
    "    return page_soup\n"
   ]
  },
  {
   "cell_type": "code",
   "execution_count": 3,
   "metadata": {},
   "outputs": [],
   "source": [
    "all_pages = list()\n",
    "url = 'https://redragonshop.com/collections/keyboard?page='\n",
    "for count in range(1,3):\n",
    "    all_pages.append(url + str(count))\n"
   ]
  },
  {
   "cell_type": "code",
   "execution_count": 4,
   "metadata": {},
   "outputs": [],
   "source": [
    "## Normal mode ## THis code is shit :( \n",
    "\n",
    "def get_all_html(all_pages,url):\n",
    "    l = list()\n",
    "    for soups in all_pages:\n",
    "        l.append(get_set(url))\n",
    "    \n",
    "    return l\n",
    "\n",
    "\n",
    "\n",
    "## List comprenhesion AKA GOD-MODE (pythonic) , this is pretty :)\n",
    "\n",
    "def get_all_html_god_mode(all_pages):\n",
    "    \n",
    "    l = [ get_set(i) for i in all_pages  ]\n",
    "\n",
    "    return l "
   ]
  },
  {
   "cell_type": "code",
   "execution_count": 5,
   "metadata": {},
   "outputs": [],
   "source": [
    "different_soups = get_all_html_god_mode(all_pages) \n"
   ]
  },
  {
   "cell_type": "code",
   "execution_count": 6,
   "metadata": {},
   "outputs": [],
   "source": [
    "# THis is messy , I'm sure I could have done this better with a nested \n",
    "\n",
    "def get_info(different_soups,header,classs,further):\n",
    "    title_test = list()\n",
    "    product_names = list()\n",
    "    for i in range(len(different_soups)):\n",
    "        title_test.append(different_soups[i].find_all(header, class_=classs))\n",
    "        for j in range(len(title_test[i])):\n",
    "            product_names.append(title_test[i][j][further])\n",
    "    \n",
    "    return product_names    \n",
    "\n",
    "\n",
    "## With list comprenhesion \n",
    "# I guess you'd start like this but the function works,\n",
    "# and honestly it's taking me too much time to be more eficient for a 2 day project \n",
    "\n",
    "# title_names = [soups.find_all(\"div\", class_=\"grid-view-item__title\") \n",
    "               \n",
    "\n"
   ]
  },
  {
   "cell_type": "code",
   "execution_count": 7,
   "metadata": {},
   "outputs": [],
   "source": [
    "product_names = get_info(different_soups,'div',\"grid-view-item__title\",'title')"
   ]
  },
  {
   "cell_type": "code",
   "execution_count": 8,
   "metadata": {},
   "outputs": [],
   "source": [
    "def get_price(different_soups,span,classs):\n",
    "    price_test = list()\n",
    "\n",
    "    product_prices = list()\n",
    "\n",
    "    final_prices = list()\n",
    "\n",
    "    for i in range(len(different_soups)):\n",
    "        price_test.append(different_soups[i].find_all(span, class_=classs))\n",
    "        for j in range(len(price_test[i])):\n",
    "            product_prices.append(price_test[i][j])\n",
    "            final_prices.append(float(\"\".join(filter(lambda d: str.isdigit(d) or d == '.',product_prices[j].text))))\n",
    "\n",
    "    return final_prices            \n",
    "        \n",
    "        "
   ]
  },
  {
   "cell_type": "code",
   "execution_count": 9,
   "metadata": {},
   "outputs": [],
   "source": [
    "final_prices= get_price(different_soups,'span','product-price__price')"
   ]
  },
  {
   "cell_type": "code",
   "execution_count": 12,
   "metadata": {
    "scrolled": true
   },
   "outputs": [
    {
     "data": {
      "text/html": [
       "<div>\n",
       "<style scoped>\n",
       "    .dataframe tbody tr th:only-of-type {\n",
       "        vertical-align: middle;\n",
       "    }\n",
       "\n",
       "    .dataframe tbody tr th {\n",
       "        vertical-align: top;\n",
       "    }\n",
       "\n",
       "    .dataframe thead th {\n",
       "        text-align: right;\n",
       "    }\n",
       "</style>\n",
       "<table border=\"1\" class=\"dataframe\">\n",
       "  <thead>\n",
       "    <tr style=\"text-align: right;\">\n",
       "      <th></th>\n",
       "      <th>Product Name</th>\n",
       "      <th>Price</th>\n",
       "    </tr>\n",
       "  </thead>\n",
       "  <tbody>\n",
       "    <tr>\n",
       "      <th>0</th>\n",
       "      <td>VATA K580</td>\n",
       "      <td>57.79</td>\n",
       "    </tr>\n",
       "    <tr>\n",
       "      <th>1</th>\n",
       "      <td>VISNU K561</td>\n",
       "      <td>37.99</td>\n",
       "    </tr>\n",
       "    <tr>\n",
       "      <th>2</th>\n",
       "      <td>KALA K557</td>\n",
       "      <td>56.99</td>\n",
       "    </tr>\n",
       "    <tr>\n",
       "      <th>3</th>\n",
       "      <td>DEVARAJAS K556-RK</td>\n",
       "      <td>59.99</td>\n",
       "    </tr>\n",
       "    <tr>\n",
       "      <th>4</th>\n",
       "      <td>SURARA K582</td>\n",
       "      <td>46.99</td>\n",
       "    </tr>\n",
       "    <tr>\n",
       "      <th>5</th>\n",
       "      <td>DITI K585</td>\n",
       "      <td>33.29</td>\n",
       "    </tr>\n",
       "    <tr>\n",
       "      <th>6</th>\n",
       "      <td>DEVARAJAS K556</td>\n",
       "      <td>56.99</td>\n",
       "    </tr>\n",
       "    <tr>\n",
       "      <th>7</th>\n",
       "      <td>SHRAPNEL K589</td>\n",
       "      <td>49.99</td>\n",
       "    </tr>\n",
       "    <tr>\n",
       "      <th>8</th>\n",
       "      <td>KALI K577R</td>\n",
       "      <td>57.79</td>\n",
       "    </tr>\n",
       "    <tr>\n",
       "      <th>9</th>\n",
       "      <td>PARTRYUSA K570</td>\n",
       "      <td>37.99</td>\n",
       "    </tr>\n",
       "    <tr>\n",
       "      <th>10</th>\n",
       "      <td>ANALA K558</td>\n",
       "      <td>56.99</td>\n",
       "    </tr>\n",
       "    <tr>\n",
       "      <th>11</th>\n",
       "      <td>SURYA K563</td>\n",
       "      <td>59.99</td>\n",
       "    </tr>\n",
       "    <tr>\n",
       "      <th>12</th>\n",
       "      <td>SURARA K582-PRO</td>\n",
       "      <td>46.99</td>\n",
       "    </tr>\n",
       "  </tbody>\n",
       "</table>\n",
       "</div>"
      ],
      "text/plain": [
       "        Product Name   Price\n",
       "0           VATA K580  57.79\n",
       "1          VISNU K561  37.99\n",
       "2           KALA K557  56.99\n",
       "3   DEVARAJAS K556-RK  59.99\n",
       "4         SURARA K582  46.99\n",
       "5           DITI K585  33.29\n",
       "6      DEVARAJAS K556  56.99\n",
       "7       SHRAPNEL K589  49.99\n",
       "8          KALI K577R  57.79\n",
       "9      PARTRYUSA K570  37.99\n",
       "10         ANALA K558  56.99\n",
       "11         SURYA K563  59.99\n",
       "12    SURARA K582-PRO  46.99"
      ]
     },
     "execution_count": 12,
     "metadata": {},
     "output_type": "execute_result"
    }
   ],
   "source": [
    "keyboards = pd.DataFrame(\n",
    "    {'Product Name ': product_names,\n",
    "     'Price': final_prices\n",
    "    })\n",
    "keyboards"
   ]
  },
  {
   "cell_type": "markdown",
   "metadata": {},
   "source": [
    "# Let's see if atleast this home-made crawler can be used within the same site with different products"
   ]
  },
  {
   "cell_type": "code",
   "execution_count": 13,
   "metadata": {},
   "outputs": [],
   "source": [
    "url = 'https://redragonshop.com/collections/mouse'\n",
    "\n",
    "#get_set('https://redragonshop.com/collections/mouse')\n",
    "\n",
    "\n",
    "\n",
    "\n",
    "#get_info(different_soups,header,classs,further)\n"
   ]
  },
  {
   "cell_type": "code",
   "execution_count": 14,
   "metadata": {},
   "outputs": [],
   "source": [
    "all_pages = list()\n",
    "url = 'https://redragonshop.com/collections/mouse?page='\n",
    "for count in range(1,2):\n",
    "    all_pages.append(url + str(count))\n"
   ]
  },
  {
   "cell_type": "code",
   "execution_count": 15,
   "metadata": {},
   "outputs": [
    {
     "data": {
      "text/plain": [
       "1"
      ]
     },
     "execution_count": 15,
     "metadata": {},
     "output_type": "execute_result"
    }
   ],
   "source": [
    "different_soups_2 = get_all_html_god_mode(all_pages) \n",
    "\n",
    "len(different_soups_2)"
   ]
  },
  {
   "cell_type": "code",
   "execution_count": 16,
   "metadata": {},
   "outputs": [],
   "source": [
    "product_names_mice = get_info(different_soups_2,\"div\",\"grid-view-item__title\",\"title\")"
   ]
  },
  {
   "cell_type": "code",
   "execution_count": 17,
   "metadata": {},
   "outputs": [
    {
     "data": {
      "text/plain": [
       "['INVADER M719',\n",
       " 'COBRA M711',\n",
       " 'IMPACT M908',\n",
       " 'MIG M653',\n",
       " 'MIRAGE2 M690-1',\n",
       " 'NIRVANA M652',\n",
       " 'COBRA-FPS M711-FPS']"
      ]
     },
     "execution_count": 17,
     "metadata": {},
     "output_type": "execute_result"
    }
   ],
   "source": [
    "product_names_mice"
   ]
  },
  {
   "cell_type": "code",
   "execution_count": 18,
   "metadata": {},
   "outputs": [],
   "source": [
    "final_prices_mice= get_price(different_soups_2,'span','product-price__price')"
   ]
  },
  {
   "cell_type": "code",
   "execution_count": 19,
   "metadata": {},
   "outputs": [
    {
     "data": {
      "text/plain": [
       "[9.99, 19.89, 29.69, 11.99, 14.99, 11.99, 29.99]"
      ]
     },
     "execution_count": 19,
     "metadata": {},
     "output_type": "execute_result"
    }
   ],
   "source": [
    "final_prices_mice"
   ]
  },
  {
   "cell_type": "code",
   "execution_count": 20,
   "metadata": {
    "scrolled": true
   },
   "outputs": [
    {
     "data": {
      "text/html": [
       "<div>\n",
       "<style scoped>\n",
       "    .dataframe tbody tr th:only-of-type {\n",
       "        vertical-align: middle;\n",
       "    }\n",
       "\n",
       "    .dataframe tbody tr th {\n",
       "        vertical-align: top;\n",
       "    }\n",
       "\n",
       "    .dataframe thead th {\n",
       "        text-align: right;\n",
       "    }\n",
       "</style>\n",
       "<table border=\"1\" class=\"dataframe\">\n",
       "  <thead>\n",
       "    <tr style=\"text-align: right;\">\n",
       "      <th></th>\n",
       "      <th>Product Name</th>\n",
       "      <th>Price</th>\n",
       "    </tr>\n",
       "  </thead>\n",
       "  <tbody>\n",
       "    <tr>\n",
       "      <th>0</th>\n",
       "      <td>INVADER M719</td>\n",
       "      <td>9.99</td>\n",
       "    </tr>\n",
       "    <tr>\n",
       "      <th>1</th>\n",
       "      <td>COBRA M711</td>\n",
       "      <td>19.89</td>\n",
       "    </tr>\n",
       "    <tr>\n",
       "      <th>2</th>\n",
       "      <td>IMPACT M908</td>\n",
       "      <td>29.69</td>\n",
       "    </tr>\n",
       "    <tr>\n",
       "      <th>3</th>\n",
       "      <td>MIG M653</td>\n",
       "      <td>11.99</td>\n",
       "    </tr>\n",
       "    <tr>\n",
       "      <th>4</th>\n",
       "      <td>MIRAGE2 M690-1</td>\n",
       "      <td>14.99</td>\n",
       "    </tr>\n",
       "    <tr>\n",
       "      <th>5</th>\n",
       "      <td>NIRVANA M652</td>\n",
       "      <td>11.99</td>\n",
       "    </tr>\n",
       "    <tr>\n",
       "      <th>6</th>\n",
       "      <td>COBRA-FPS M711-FPS</td>\n",
       "      <td>29.99</td>\n",
       "    </tr>\n",
       "  </tbody>\n",
       "</table>\n",
       "</div>"
      ],
      "text/plain": [
       "        Product Name   Price\n",
       "0        INVADER M719   9.99\n",
       "1          COBRA M711  19.89\n",
       "2         IMPACT M908  29.69\n",
       "3            MIG M653  11.99\n",
       "4      MIRAGE2 M690-1  14.99\n",
       "5        NIRVANA M652  11.99\n",
       "6  COBRA-FPS M711-FPS  29.99"
      ]
     },
     "execution_count": 20,
     "metadata": {},
     "output_type": "execute_result"
    }
   ],
   "source": [
    "mice = pd.DataFrame(\n",
    "    {'Product Name ': product_names_mice,\n",
    "     'Price': final_prices_mice\n",
    "    })\n",
    "mice"
   ]
  },
  {
   "cell_type": "markdown",
   "metadata": {},
   "source": [
    "# Go throught the whole website \n"
   ]
  },
  {
   "cell_type": "code",
   "execution_count": 21,
   "metadata": {},
   "outputs": [],
   "source": [
    "products = ('keyboard','mouse',\n",
    "                'combo','mouse-pad','headset','gaming-case','gamepad','gaming-chair',\n",
    "            'gaming-backpack','accessories')\n",
    "\n",
    "url = 'https://redragonshop.com/collections/' \n",
    "\n"
   ]
  },
  {
   "cell_type": "code",
   "execution_count": 22,
   "metadata": {},
   "outputs": [],
   "source": [
    " def all_prods(url,products):\n",
    "    all_products = list()\n",
    "    for prod in products:\n",
    "        all_products.append(url + str(prod))\n",
    "    \n",
    "        if prod == 'keyboard': \n",
    "            \n",
    "            for i in range(1,3):\n",
    "                all_products.append('https://redragonshop.com/collections/keyboard?page=' + str(i) )\n",
    "    del all_products[0]\n",
    "          \n",
    "    return all_products"
   ]
  },
  {
   "cell_type": "code",
   "execution_count": 23,
   "metadata": {},
   "outputs": [
    {
     "data": {
      "text/plain": [
       "['https://redragonshop.com/collections/keyboard?page=1',\n",
       " 'https://redragonshop.com/collections/keyboard?page=2',\n",
       " 'https://redragonshop.com/collections/mouse',\n",
       " 'https://redragonshop.com/collections/combo',\n",
       " 'https://redragonshop.com/collections/mouse-pad',\n",
       " 'https://redragonshop.com/collections/headset',\n",
       " 'https://redragonshop.com/collections/gaming-case',\n",
       " 'https://redragonshop.com/collections/gamepad',\n",
       " 'https://redragonshop.com/collections/gaming-chair',\n",
       " 'https://redragonshop.com/collections/gaming-backpack',\n",
       " 'https://redragonshop.com/collections/accessories']"
      ]
     },
     "execution_count": 23,
     "metadata": {},
     "output_type": "execute_result"
    }
   ],
   "source": [
    "all_url = all_prods(url,products)\n",
    "all_url"
   ]
  },
  {
   "cell_type": "code",
   "execution_count": 24,
   "metadata": {
    "scrolled": true
   },
   "outputs": [
    {
     "name": "stdout",
     "output_type": "stream",
     "text": [
      "https://redragonshop.com/collections/keyboard?page=1\n",
      "https://redragonshop.com/collections/keyboard?page=2\n",
      "https://redragonshop.com/collections/mouse\n",
      "https://redragonshop.com/collections/combo\n",
      "https://redragonshop.com/collections/mouse-pad\n",
      "https://redragonshop.com/collections/headset\n",
      "https://redragonshop.com/collections/gaming-case\n",
      "https://redragonshop.com/collections/gamepad\n",
      "https://redragonshop.com/collections/gaming-chair\n",
      "https://redragonshop.com/collections/gaming-backpack\n",
      "https://redragonshop.com/collections/accessories\n"
     ]
    }
   ],
   "source": [
    "for url in all_url: \n",
    "    print(url)"
   ]
  },
  {
   "cell_type": "code",
   "execution_count": 25,
   "metadata": {},
   "outputs": [],
   "source": [
    "soups = get_all_html_god_mode(all_url)"
   ]
  },
  {
   "cell_type": "code",
   "execution_count": 26,
   "metadata": {},
   "outputs": [],
   "source": [
    "product_names = get_info(soups,'div',\"grid-view-item__title\",'title')\n"
   ]
  },
  {
   "cell_type": "code",
   "execution_count": 27,
   "metadata": {
    "scrolled": true
   },
   "outputs": [
    {
     "data": {
      "text/plain": [
       "['VATA K580',\n",
       " 'VISNU K561',\n",
       " 'KALA K557',\n",
       " 'DEVARAJAS K556-RK',\n",
       " 'SURARA K582',\n",
       " 'DITI K585',\n",
       " 'DEVARAJAS K556',\n",
       " 'SHRAPNEL K589',\n",
       " 'KALI K577R',\n",
       " 'PARTRYUSA K570',\n",
       " 'ANALA K558',\n",
       " 'SURYA K563',\n",
       " 'SURARA K582-PRO',\n",
       " 'INVADER M719',\n",
       " 'COBRA M711',\n",
       " 'IMPACT M908',\n",
       " 'MIG M653',\n",
       " 'MIRAGE2 M690-1',\n",
       " 'NIRVANA M652',\n",
       " 'COBRA-FPS M711-FPS',\n",
       " 'K582-BA COMBO',\n",
       " 'M652-BA COMBO',\n",
       " 'P012',\n",
       " 'P015',\n",
       " 'P011',\n",
       " 'P003',\n",
       " 'P025',\n",
       " 'H510 ZEUS',\n",
       " 'MUSES H310',\n",
       " 'SIREN2 H301',\n",
       " 'TRITON H991',\n",
       " 'THUNDER E200',\n",
       " 'JUPITER G809',\n",
       " 'C101',\n",
       " 'GB-100',\n",
       " 'GC-F008',\n",
       " 'GC-F006',\n",
       " 'A103R',\n",
       " 'A105',\n",
       " 'A101G',\n",
       " 'A106']"
      ]
     },
     "execution_count": 27,
     "metadata": {},
     "output_type": "execute_result"
    }
   ],
   "source": [
    "product_names"
   ]
  },
  {
   "cell_type": "code",
   "execution_count": 30,
   "metadata": {
    "scrolled": true
   },
   "outputs": [
    {
     "data": {
      "text/plain": [
       "[57.79,\n",
       " 37.99,\n",
       " 56.99,\n",
       " 59.99,\n",
       " 46.99,\n",
       " 33.29,\n",
       " 56.99,\n",
       " 49.99,\n",
       " 57.79,\n",
       " 37.99,\n",
       " 56.99,\n",
       " 59.99,\n",
       " 46.99,\n",
       " 57.79,\n",
       " 37.99,\n",
       " 56.99,\n",
       " 59.99,\n",
       " 46.99,\n",
       " 33.29,\n",
       " 56.99,\n",
       " 57.79,\n",
       " 37.99,\n",
       " 57.79,\n",
       " 37.99,\n",
       " 56.99,\n",
       " 59.99,\n",
       " 46.99,\n",
       " 57.79,\n",
       " 37.99,\n",
       " 56.99,\n",
       " 59.99,\n",
       " 46.99,\n",
       " 57.79,\n",
       " 57.79,\n",
       " 57.79,\n",
       " 57.79,\n",
       " 37.99,\n",
       " 56.99,\n",
       " 59.99,\n",
       " 46.99,\n",
       " 33.29]"
      ]
     },
     "execution_count": 30,
     "metadata": {},
     "output_type": "execute_result"
    }
   ],
   "source": [
    "prices = get_price(soups,'span','product-price__price')\n",
    "\n",
    "prices"
   ]
  },
  {
   "cell_type": "code",
   "execution_count": 29,
   "metadata": {
    "scrolled": true
   },
   "outputs": [
    {
     "data": {
      "text/html": [
       "<div>\n",
       "<style scoped>\n",
       "    .dataframe tbody tr th:only-of-type {\n",
       "        vertical-align: middle;\n",
       "    }\n",
       "\n",
       "    .dataframe tbody tr th {\n",
       "        vertical-align: top;\n",
       "    }\n",
       "\n",
       "    .dataframe thead th {\n",
       "        text-align: right;\n",
       "    }\n",
       "</style>\n",
       "<table border=\"1\" class=\"dataframe\">\n",
       "  <thead>\n",
       "    <tr style=\"text-align: right;\">\n",
       "      <th></th>\n",
       "      <th>Product Name</th>\n",
       "      <th>Price</th>\n",
       "    </tr>\n",
       "  </thead>\n",
       "  <tbody>\n",
       "    <tr>\n",
       "      <th>0</th>\n",
       "      <td>VATA K580</td>\n",
       "      <td>57.79</td>\n",
       "    </tr>\n",
       "    <tr>\n",
       "      <th>1</th>\n",
       "      <td>VISNU K561</td>\n",
       "      <td>37.99</td>\n",
       "    </tr>\n",
       "    <tr>\n",
       "      <th>2</th>\n",
       "      <td>KALA K557</td>\n",
       "      <td>56.99</td>\n",
       "    </tr>\n",
       "    <tr>\n",
       "      <th>3</th>\n",
       "      <td>DEVARAJAS K556-RK</td>\n",
       "      <td>59.99</td>\n",
       "    </tr>\n",
       "    <tr>\n",
       "      <th>4</th>\n",
       "      <td>SURARA K582</td>\n",
       "      <td>46.99</td>\n",
       "    </tr>\n",
       "    <tr>\n",
       "      <th>5</th>\n",
       "      <td>DITI K585</td>\n",
       "      <td>33.29</td>\n",
       "    </tr>\n",
       "    <tr>\n",
       "      <th>6</th>\n",
       "      <td>DEVARAJAS K556</td>\n",
       "      <td>56.99</td>\n",
       "    </tr>\n",
       "    <tr>\n",
       "      <th>7</th>\n",
       "      <td>SHRAPNEL K589</td>\n",
       "      <td>49.99</td>\n",
       "    </tr>\n",
       "    <tr>\n",
       "      <th>8</th>\n",
       "      <td>KALI K577R</td>\n",
       "      <td>57.79</td>\n",
       "    </tr>\n",
       "    <tr>\n",
       "      <th>9</th>\n",
       "      <td>PARTRYUSA K570</td>\n",
       "      <td>37.99</td>\n",
       "    </tr>\n",
       "    <tr>\n",
       "      <th>10</th>\n",
       "      <td>ANALA K558</td>\n",
       "      <td>56.99</td>\n",
       "    </tr>\n",
       "    <tr>\n",
       "      <th>11</th>\n",
       "      <td>SURYA K563</td>\n",
       "      <td>59.99</td>\n",
       "    </tr>\n",
       "    <tr>\n",
       "      <th>12</th>\n",
       "      <td>SURARA K582-PRO</td>\n",
       "      <td>46.99</td>\n",
       "    </tr>\n",
       "    <tr>\n",
       "      <th>13</th>\n",
       "      <td>INVADER M719</td>\n",
       "      <td>57.79</td>\n",
       "    </tr>\n",
       "    <tr>\n",
       "      <th>14</th>\n",
       "      <td>COBRA M711</td>\n",
       "      <td>37.99</td>\n",
       "    </tr>\n",
       "    <tr>\n",
       "      <th>15</th>\n",
       "      <td>IMPACT M908</td>\n",
       "      <td>56.99</td>\n",
       "    </tr>\n",
       "    <tr>\n",
       "      <th>16</th>\n",
       "      <td>MIG M653</td>\n",
       "      <td>59.99</td>\n",
       "    </tr>\n",
       "    <tr>\n",
       "      <th>17</th>\n",
       "      <td>MIRAGE2 M690-1</td>\n",
       "      <td>46.99</td>\n",
       "    </tr>\n",
       "    <tr>\n",
       "      <th>18</th>\n",
       "      <td>NIRVANA M652</td>\n",
       "      <td>33.29</td>\n",
       "    </tr>\n",
       "    <tr>\n",
       "      <th>19</th>\n",
       "      <td>COBRA-FPS M711-FPS</td>\n",
       "      <td>56.99</td>\n",
       "    </tr>\n",
       "    <tr>\n",
       "      <th>20</th>\n",
       "      <td>K582-BA COMBO</td>\n",
       "      <td>57.79</td>\n",
       "    </tr>\n",
       "    <tr>\n",
       "      <th>21</th>\n",
       "      <td>M652-BA COMBO</td>\n",
       "      <td>37.99</td>\n",
       "    </tr>\n",
       "    <tr>\n",
       "      <th>22</th>\n",
       "      <td>P012</td>\n",
       "      <td>57.79</td>\n",
       "    </tr>\n",
       "    <tr>\n",
       "      <th>23</th>\n",
       "      <td>P015</td>\n",
       "      <td>37.99</td>\n",
       "    </tr>\n",
       "    <tr>\n",
       "      <th>24</th>\n",
       "      <td>P011</td>\n",
       "      <td>56.99</td>\n",
       "    </tr>\n",
       "    <tr>\n",
       "      <th>25</th>\n",
       "      <td>P003</td>\n",
       "      <td>59.99</td>\n",
       "    </tr>\n",
       "    <tr>\n",
       "      <th>26</th>\n",
       "      <td>P025</td>\n",
       "      <td>46.99</td>\n",
       "    </tr>\n",
       "    <tr>\n",
       "      <th>27</th>\n",
       "      <td>H510 ZEUS</td>\n",
       "      <td>57.79</td>\n",
       "    </tr>\n",
       "    <tr>\n",
       "      <th>28</th>\n",
       "      <td>MUSES H310</td>\n",
       "      <td>37.99</td>\n",
       "    </tr>\n",
       "    <tr>\n",
       "      <th>29</th>\n",
       "      <td>SIREN2 H301</td>\n",
       "      <td>56.99</td>\n",
       "    </tr>\n",
       "    <tr>\n",
       "      <th>30</th>\n",
       "      <td>TRITON H991</td>\n",
       "      <td>59.99</td>\n",
       "    </tr>\n",
       "    <tr>\n",
       "      <th>31</th>\n",
       "      <td>THUNDER E200</td>\n",
       "      <td>46.99</td>\n",
       "    </tr>\n",
       "    <tr>\n",
       "      <th>32</th>\n",
       "      <td>JUPITER G809</td>\n",
       "      <td>57.79</td>\n",
       "    </tr>\n",
       "    <tr>\n",
       "      <th>33</th>\n",
       "      <td>C101</td>\n",
       "      <td>57.79</td>\n",
       "    </tr>\n",
       "    <tr>\n",
       "      <th>34</th>\n",
       "      <td>GB-100</td>\n",
       "      <td>57.79</td>\n",
       "    </tr>\n",
       "    <tr>\n",
       "      <th>35</th>\n",
       "      <td>GC-F008</td>\n",
       "      <td>57.79</td>\n",
       "    </tr>\n",
       "    <tr>\n",
       "      <th>36</th>\n",
       "      <td>GC-F006</td>\n",
       "      <td>37.99</td>\n",
       "    </tr>\n",
       "    <tr>\n",
       "      <th>37</th>\n",
       "      <td>A103R</td>\n",
       "      <td>56.99</td>\n",
       "    </tr>\n",
       "    <tr>\n",
       "      <th>38</th>\n",
       "      <td>A105</td>\n",
       "      <td>59.99</td>\n",
       "    </tr>\n",
       "    <tr>\n",
       "      <th>39</th>\n",
       "      <td>A101G</td>\n",
       "      <td>46.99</td>\n",
       "    </tr>\n",
       "    <tr>\n",
       "      <th>40</th>\n",
       "      <td>A106</td>\n",
       "      <td>33.29</td>\n",
       "    </tr>\n",
       "  </tbody>\n",
       "</table>\n",
       "</div>"
      ],
      "text/plain": [
       "         Product Name   Price\n",
       "0            VATA K580  57.79\n",
       "1           VISNU K561  37.99\n",
       "2            KALA K557  56.99\n",
       "3    DEVARAJAS K556-RK  59.99\n",
       "4          SURARA K582  46.99\n",
       "5            DITI K585  33.29\n",
       "6       DEVARAJAS K556  56.99\n",
       "7        SHRAPNEL K589  49.99\n",
       "8           KALI K577R  57.79\n",
       "9       PARTRYUSA K570  37.99\n",
       "10          ANALA K558  56.99\n",
       "11          SURYA K563  59.99\n",
       "12     SURARA K582-PRO  46.99\n",
       "13        INVADER M719  57.79\n",
       "14          COBRA M711  37.99\n",
       "15         IMPACT M908  56.99\n",
       "16            MIG M653  59.99\n",
       "17      MIRAGE2 M690-1  46.99\n",
       "18        NIRVANA M652  33.29\n",
       "19  COBRA-FPS M711-FPS  56.99\n",
       "20       K582-BA COMBO  57.79\n",
       "21       M652-BA COMBO  37.99\n",
       "22                P012  57.79\n",
       "23                P015  37.99\n",
       "24                P011  56.99\n",
       "25                P003  59.99\n",
       "26                P025  46.99\n",
       "27           H510 ZEUS  57.79\n",
       "28          MUSES H310  37.99\n",
       "29         SIREN2 H301  56.99\n",
       "30         TRITON H991  59.99\n",
       "31        THUNDER E200  46.99\n",
       "32        JUPITER G809  57.79\n",
       "33                C101  57.79\n",
       "34              GB-100  57.79\n",
       "35             GC-F008  57.79\n",
       "36             GC-F006  37.99\n",
       "37               A103R  56.99\n",
       "38                A105  59.99\n",
       "39               A101G  46.99\n",
       "40                A106  33.29"
      ]
     },
     "execution_count": 29,
     "metadata": {},
     "output_type": "execute_result"
    }
   ],
   "source": [
    "products = pd.DataFrame(\n",
    "    {'Product Name ': product_names,\n",
    "     'Price': prices\n",
    "    })\n",
    "products"
   ]
  }
 ],
 "metadata": {
  "kernelspec": {
   "display_name": "Python 3",
   "language": "python",
   "name": "python3"
  },
  "language_info": {
   "codemirror_mode": {
    "name": "ipython",
    "version": 3
   },
   "file_extension": ".py",
   "mimetype": "text/x-python",
   "name": "python",
   "nbconvert_exporter": "python",
   "pygments_lexer": "ipython3",
   "version": "3.7.3"
  },
  "varInspector": {
   "cols": {
    "lenName": 16,
    "lenType": 16,
    "lenVar": 40
   },
   "kernels_config": {
    "python": {
     "delete_cmd_postfix": "",
     "delete_cmd_prefix": "del ",
     "library": "var_list.py",
     "varRefreshCmd": "print(var_dic_list())"
    },
    "r": {
     "delete_cmd_postfix": ") ",
     "delete_cmd_prefix": "rm(",
     "library": "var_list.r",
     "varRefreshCmd": "cat(var_dic_list()) "
    }
   },
   "types_to_exclude": [
    "module",
    "function",
    "builtin_function_or_method",
    "instance",
    "_Feature"
   ],
   "window_display": false
  }
 },
 "nbformat": 4,
 "nbformat_minor": 2
}
